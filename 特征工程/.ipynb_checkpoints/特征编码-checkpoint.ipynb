{
 "cells": [
  {
   "cell_type": "markdown",
   "metadata": {},
   "source": [
    "#### 特征编码\n",
    "- 序号编码\n",
    "- 独热编码\n",
    "- 二进制编码"
   ]
  },
  {
   "cell_type": "code",
   "execution_count": 1,
   "metadata": {},
   "outputs": [
    {
     "name": "stdout",
     "output_type": "stream",
     "text": [
      "[array(['初中', '小学', '高中'], dtype=object)]\n"
     ]
    },
    {
     "data": {
      "text/plain": [
       "array([[1.],\n",
       "       [2.],\n",
       "       [2.],\n",
       "       [0.]])"
      ]
     },
     "execution_count": 1,
     "metadata": {},
     "output_type": "execute_result"
    }
   ],
   "source": [
    "import numpy as np\n",
    "import pandas as pd\n",
    "from sklearn.preprocessing import OrdinalEncoder\n",
    "\n",
    "data = [{'姓名': '张三','性别': '男','学历': '小学'},\n",
    "        {'姓名': '李四','性别': '女','学历': '高中'},\n",
    "        {'姓名': '王五','性别': '其他','学历': '高中'},\n",
    "        {'姓名': '小六','性别': '女','学历': '初中'}]\n",
    "\n",
    "X = pd.DataFrame(data)\n",
    "encoder = OrdinalEncoder()\n",
    "X_encodered = encoder.fit_transform(X['学历'].values.reshape(-1, 1))\n",
    "print(encoder.categories_)\n",
    "X_encodered"
   ]
  },
  {
   "cell_type": "code",
   "execution_count": 2,
   "metadata": {},
   "outputs": [
    {
     "data": {
      "text/html": [
       "<div>\n",
       "<style scoped>\n",
       "    .dataframe tbody tr th:only-of-type {\n",
       "        vertical-align: middle;\n",
       "    }\n",
       "\n",
       "    .dataframe tbody tr th {\n",
       "        vertical-align: top;\n",
       "    }\n",
       "\n",
       "    .dataframe thead th {\n",
       "        text-align: right;\n",
       "    }\n",
       "</style>\n",
       "<table border=\"1\" class=\"dataframe\">\n",
       "  <thead>\n",
       "    <tr style=\"text-align: right;\">\n",
       "      <th></th>\n",
       "      <th>姓名</th>\n",
       "      <th>性别</th>\n",
       "      <th>学历</th>\n",
       "    </tr>\n",
       "  </thead>\n",
       "  <tbody>\n",
       "    <tr>\n",
       "      <th>0</th>\n",
       "      <td>张三</td>\n",
       "      <td>男</td>\n",
       "      <td>小学</td>\n",
       "    </tr>\n",
       "    <tr>\n",
       "      <th>1</th>\n",
       "      <td>李四</td>\n",
       "      <td>女</td>\n",
       "      <td>高中</td>\n",
       "    </tr>\n",
       "    <tr>\n",
       "      <th>2</th>\n",
       "      <td>王五</td>\n",
       "      <td>其他</td>\n",
       "      <td>高中</td>\n",
       "    </tr>\n",
       "    <tr>\n",
       "      <th>3</th>\n",
       "      <td>小六</td>\n",
       "      <td>女</td>\n",
       "      <td>初中</td>\n",
       "    </tr>\n",
       "  </tbody>\n",
       "</table>\n",
       "</div>"
      ],
      "text/plain": [
       "   姓名  性别  学历\n",
       "0  张三   男  小学\n",
       "1  李四   女  高中\n",
       "2  王五  其他  高中\n",
       "3  小六   女  初中"
      ]
     },
     "execution_count": 2,
     "metadata": {},
     "output_type": "execute_result"
    }
   ],
   "source": [
    "X"
   ]
  },
  {
   "cell_type": "code",
   "execution_count": 3,
   "metadata": {},
   "outputs": [
    {
     "name": "stdout",
     "output_type": "stream",
     "text": [
      "[array(['其他', '女', '男'], dtype=object)]\n"
     ]
    },
    {
     "data": {
      "text/plain": [
       "array([[0., 0., 1.],\n",
       "       [0., 1., 0.],\n",
       "       [1., 0., 0.],\n",
       "       [0., 1., 0.]])"
      ]
     },
     "execution_count": 3,
     "metadata": {},
     "output_type": "execute_result"
    }
   ],
   "source": [
    "from sklearn.preprocessing import OneHotEncoder\n",
    "\n",
    "encoder = OneHotEncoder()\n",
    "X_encoded = encoder.fit_transform(X['性别'].values.reshape(-1, 1))\n",
    "print(encoder.categories_)\n",
    "X_encoded.toarray()"
   ]
  },
  {
   "cell_type": "code",
   "execution_count": 4,
   "metadata": {},
   "outputs": [
    {
     "name": "stdout",
     "output_type": "stream",
     "text": [
      "Counter({'女': 2, '男': 1, '其他': 1})\n",
      "2\n",
      "[array(['其他', '女', '男'], dtype=object)]\n",
      "[[3.]\n",
      " [2.]\n",
      " [1.]\n",
      " [2.]]\n",
      "0 其他\n",
      "['1']\n",
      "['0', '1']\n",
      "1 女\n",
      "['1', '0']\n",
      "['1', '0']\n",
      "2 男\n",
      "['1', '1']\n",
      "['1', '1']\n",
      "Counter({'男': '11', '女': '10', '其他': '01'})\n"
     ]
    },
    {
     "data": {
      "text/html": [
       "<div>\n",
       "<style scoped>\n",
       "    .dataframe tbody tr th:only-of-type {\n",
       "        vertical-align: middle;\n",
       "    }\n",
       "\n",
       "    .dataframe tbody tr th {\n",
       "        vertical-align: top;\n",
       "    }\n",
       "\n",
       "    .dataframe thead th {\n",
       "        text-align: right;\n",
       "    }\n",
       "</style>\n",
       "<table border=\"1\" class=\"dataframe\">\n",
       "  <thead>\n",
       "    <tr style=\"text-align: right;\">\n",
       "      <th></th>\n",
       "      <th>姓名</th>\n",
       "      <th>学历</th>\n",
       "      <th>性别_0</th>\n",
       "      <th>性别_1</th>\n",
       "    </tr>\n",
       "  </thead>\n",
       "  <tbody>\n",
       "    <tr>\n",
       "      <th>0</th>\n",
       "      <td>张三</td>\n",
       "      <td>小学</td>\n",
       "      <td>1</td>\n",
       "      <td>1</td>\n",
       "    </tr>\n",
       "    <tr>\n",
       "      <th>1</th>\n",
       "      <td>李四</td>\n",
       "      <td>高中</td>\n",
       "      <td>1</td>\n",
       "      <td>0</td>\n",
       "    </tr>\n",
       "    <tr>\n",
       "      <th>2</th>\n",
       "      <td>王五</td>\n",
       "      <td>高中</td>\n",
       "      <td>0</td>\n",
       "      <td>1</td>\n",
       "    </tr>\n",
       "    <tr>\n",
       "      <th>3</th>\n",
       "      <td>小六</td>\n",
       "      <td>初中</td>\n",
       "      <td>1</td>\n",
       "      <td>0</td>\n",
       "    </tr>\n",
       "  </tbody>\n",
       "</table>\n",
       "</div>"
      ],
      "text/plain": [
       "   姓名  学历 性别_0 性别_1\n",
       "0  张三  小学    1    1\n",
       "1  李四  高中    1    0\n",
       "2  王五  高中    0    1\n",
       "3  小六  初中    1    0"
      ]
     },
     "execution_count": 4,
     "metadata": {},
     "output_type": "execute_result"
    }
   ],
   "source": [
    "from collections import Counter\n",
    "import math\n",
    "from sklearn.preprocessing import OrdinalEncoder\n",
    "\n",
    "def to_binary(data, col):\n",
    "    \"\"\"\n",
    "    将数据中的某一列使用二进制编码进行替换\n",
    "\n",
    "    :param data: 原始完整数据\n",
    "    :param col: 需要使用二进制编码表示的列名称\n",
    "    :return: 替换后的数据\n",
    "    \"\"\"\n",
    "\n",
    "    # 以字典形式统计当前所选列数据共有多少种取值\n",
    "    k_dict = Counter(data[col])\n",
    "    print(k_dict)\n",
    "\n",
    "    # 计算根据当前取值个数所需要的二进制位数\n",
    "    max_len = math.ceil(math.log2(len(k_dict)))\n",
    "    print(max_len)\n",
    "\n",
    "    # 对每个取值进行二进制映射\n",
    "    encoder = OrdinalEncoder()\n",
    "    encoded = encoder.fit_transform(data[col].values.reshape(-1, 1))\n",
    "    print(encoder.categories_)\n",
    "    print(encoded + 1)  # +1保证最小是1不是0\n",
    "    for n, k in enumerate(encoder.categories_[0]):\n",
    "        print(n, k)\n",
    "        # 计算当前取值的二进制形式\n",
    "        r = list(bin(n + 1))[2:]  # +1保证最小是1不是0\n",
    "        print(r)\n",
    "        # 以 0 补足缺少的位数\n",
    "        r = ['0'] * (max_len - len(r)) + r\n",
    "        print(r)\n",
    "        k_dict[k] = \"\".join(r)\n",
    "    print(k_dict)\n",
    "\n",
    "    # 使用二进制映射，对所选列数据中的元素进行替换\n",
    "    # 例如：以 '001' 进行替换\n",
    "    col_data = data[col].map(k_dict)\n",
    "\n",
    "    # 将一列数据以 '位' 进行拆分\n",
    "    new_data = pd.DataFrame()\n",
    "    for i in range(max_len):\n",
    "        new_data[f'{col}_{i}'] = col_data.map(lambda x: list(x)[i])\n",
    "\n",
    "    # 将二进制表示的特征与之前数据进行水平合并并返回\n",
    "    return pd.concat([data, new_data], axis=1).drop(columns=[col])\n",
    "\n",
    "to_binary(X, '性别')"
   ]
  }
 ],
 "metadata": {
  "kernelspec": {
   "display_name": "Python 3",
   "language": "python",
   "name": "python3"
  },
  "language_info": {
   "codemirror_mode": {
    "name": "ipython",
    "version": 3
   },
   "file_extension": ".py",
   "mimetype": "text/x-python",
   "name": "python",
   "nbconvert_exporter": "python",
   "pygments_lexer": "ipython3",
   "version": "3.8.5"
  }
 },
 "nbformat": 4,
 "nbformat_minor": 4
}
