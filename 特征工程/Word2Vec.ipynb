{
 "cells": [
  {
   "cell_type": "code",
   "execution_count": 3,
   "metadata": {},
   "outputs": [],
   "source": [
    "from gensim.models import word2vec\n",
    "import logging\n",
    "\n",
    "logging.basicConfig(format='%(asctime)s: %(levelname)s: %(message)s', level=logging.INFO)"
   ]
  },
  {
   "cell_type": "code",
   "execution_count": 1,
   "metadata": {},
   "outputs": [],
   "source": [
    "raw_sentences = [\n",
    "    'the quick brown fox jumps over the lazy dogs',\n",
    "    'yoyoyo you go home now to sleep'\n",
    "]"
   ]
  },
  {
   "cell_type": "code",
   "execution_count": 2,
   "metadata": {},
   "outputs": [
    {
     "data": {
      "text/plain": [
       "[['the', 'quick', 'brown', 'fox', 'jumps', 'over', 'the', 'lazy', 'dogs'],\n",
       " ['yoyoyo', 'you', 'go', 'home', 'now', 'to', 'sleep']]"
      ]
     },
     "execution_count": 2,
     "metadata": {},
     "output_type": "execute_result"
    }
   ],
   "source": [
    "sentences = [s.split() for s in raw_sentences]\n",
    "sentences"
   ]
  },
  {
   "cell_type": "code",
   "execution_count": 4,
   "metadata": {},
   "outputs": [
    {
     "name": "stderr",
     "output_type": "stream",
     "text": [
      "2020-12-15 09:33:58,713: INFO: collecting all words and their counts\n",
      "2020-12-15 09:33:58,725: INFO: PROGRESS: at sentence #0, processed 0 words, keeping 0 word types\n",
      "2020-12-15 09:33:58,729: INFO: collected 15 word types from a corpus of 16 raw words and 2 sentences\n",
      "2020-12-15 09:33:58,736: INFO: Loading a fresh vocabulary\n",
      "2020-12-15 09:33:58,741: INFO: effective_min_count=1 retains 15 unique words (100% of original 15, drops 0)\n",
      "2020-12-15 09:33:58,746: INFO: effective_min_count=1 leaves 16 word corpus (100% of original 16, drops 0)\n",
      "2020-12-15 09:33:58,753: INFO: deleting the raw counts dictionary of 15 items\n",
      "2020-12-15 09:33:58,757: INFO: sample=0.001 downsamples 15 most-common words\n",
      "2020-12-15 09:33:58,768: INFO: downsampling leaves estimated 2 word corpus (13.7% of prior 16)\n",
      "2020-12-15 09:33:58,781: INFO: estimated required memory for 15 words and 100 dimensions: 19500 bytes\n",
      "2020-12-15 09:33:58,784: INFO: resetting layer weights\n",
      "2020-12-15 09:33:58,803: INFO: training model with 3 workers on 15 vocabulary and 100 features, using sg=0 hs=0 sample=0.001 negative=5 window=2\n",
      "2020-12-15 09:33:58,812: INFO: worker thread finished; awaiting finish of 2 more threads\n",
      "2020-12-15 09:33:58,814: INFO: worker thread finished; awaiting finish of 1 more threads\n",
      "2020-12-15 09:33:58,821: INFO: worker thread finished; awaiting finish of 0 more threads\n",
      "2020-12-15 09:33:58,822: INFO: EPOCH - 1 : training on 16 raw words (2 effective words) took 0.0s, 192 effective words/s\n",
      "2020-12-15 09:33:58,827: INFO: worker thread finished; awaiting finish of 2 more threads\n",
      "2020-12-15 09:33:58,830: INFO: worker thread finished; awaiting finish of 1 more threads\n",
      "2020-12-15 09:33:58,834: INFO: worker thread finished; awaiting finish of 0 more threads\n",
      "2020-12-15 09:33:58,836: INFO: EPOCH - 2 : training on 16 raw words (3 effective words) took 0.0s, 342 effective words/s\n",
      "2020-12-15 09:33:58,843: INFO: worker thread finished; awaiting finish of 2 more threads\n",
      "2020-12-15 09:33:58,845: INFO: worker thread finished; awaiting finish of 1 more threads\n",
      "2020-12-15 09:33:58,847: INFO: worker thread finished; awaiting finish of 0 more threads\n",
      "2020-12-15 09:33:58,850: INFO: EPOCH - 3 : training on 16 raw words (2 effective words) took 0.0s, 233 effective words/s\n",
      "2020-12-15 09:33:58,855: INFO: worker thread finished; awaiting finish of 2 more threads\n",
      "2020-12-15 09:33:58,857: INFO: worker thread finished; awaiting finish of 1 more threads\n",
      "2020-12-15 09:33:58,859: INFO: worker thread finished; awaiting finish of 0 more threads\n",
      "2020-12-15 09:33:58,861: INFO: EPOCH - 4 : training on 16 raw words (1 effective words) took 0.0s, 153 effective words/s\n",
      "2020-12-15 09:33:58,865: INFO: worker thread finished; awaiting finish of 2 more threads\n",
      "2020-12-15 09:33:58,867: INFO: worker thread finished; awaiting finish of 1 more threads\n",
      "2020-12-15 09:33:58,870: INFO: worker thread finished; awaiting finish of 0 more threads\n",
      "2020-12-15 09:33:58,872: INFO: EPOCH - 5 : training on 16 raw words (2 effective words) took 0.0s, 283 effective words/s\n",
      "2020-12-15 09:33:58,875: INFO: training on a 80 raw words (10 effective words) took 0.1s, 141 effective words/s\n",
      "2020-12-15 09:33:58,877: WARNING: under 10 jobs per worker: consider setting a smaller `batch_words' for smoother alpha decay\n"
     ]
    }
   ],
   "source": [
    "model = word2vec.Word2Vec(sentences, window=2, min_count=1)"
   ]
  },
  {
   "cell_type": "code",
   "execution_count": 7,
   "metadata": {},
   "outputs": [
    {
     "data": {
      "text/plain": [
       "0.0923626"
      ]
     },
     "execution_count": 7,
     "metadata": {},
     "output_type": "execute_result"
    }
   ],
   "source": [
    "model.wv.similarity('dogs', 'you')"
   ]
  }
 ],
 "metadata": {
  "kernelspec": {
   "display_name": "Python 3",
   "language": "python",
   "name": "python3"
  },
  "language_info": {
   "codemirror_mode": {
    "name": "ipython",
    "version": 3
   },
   "file_extension": ".py",
   "mimetype": "text/x-python",
   "name": "python",
   "nbconvert_exporter": "python",
   "pygments_lexer": "ipython3",
   "version": "3.8.5"
  }
 },
 "nbformat": 4,
 "nbformat_minor": 4
}
