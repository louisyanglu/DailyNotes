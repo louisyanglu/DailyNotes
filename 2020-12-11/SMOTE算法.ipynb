{
 "cells": [
  {
   "cell_type": "markdown",
   "metadata": {},
   "source": [
    "- 少数类中，对每一个样本 $x$ ，以欧氏距离得到其k近邻；\n",
    "- 设置采样倍率N，一般 N = 多数类样本数 / 少数类样本数，选择每一个样本 $x$ 的 N个近邻 $xn$;\n",
    "- 根据 $x、xn$ 构建新样本 $x_{new} = x + rand(0, 1) \\times |x-xn|$。"
   ]
  },
  {
   "cell_type": "code",
   "execution_count": 3,
   "metadata": {},
   "outputs": [],
   "source": [
    "import random\n",
    "from sklearn.neighbors import NearestNeighbors\n",
    "import numpy as np\n",
    "\n",
    "\n",
    "class Smote:\n",
    "    def __init__(self, samples, N=10, k=5):\n",
    "        self.n_samples, self.n_attrs = samples.shape\n",
    "        self.N = N\n",
    "        self.k = k\n",
    "        self.samples = samples\n",
    "        self.newindex = 0\n",
    "\n",
    "    # self.synthetic=np.zeros((self.n_samples*N,self.n_attrs))\n",
    "\n",
    "    def over_sampling(self):\n",
    "        N = int(self.N / 100)\n",
    "        self.synthetic = np.zeros((self.n_samples * N, self.n_attrs))\n",
    "        neighbors = NearestNeighbors(n_neighbors=self.k).fit(self.samples)\n",
    "        print('neighbors', neighbors)\n",
    "        for i in range(len(self.samples)):\n",
    "            print('samples', self.samples[i])\n",
    "            # Finds the K-neighbors of a point.\n",
    "            nnarray = neighbors.kneighbors(self.samples[i].reshape((1, -1)), return_distance=False)[0]\n",
    "            print('nna', nnarray)\n",
    "            self._populate(N, i, nnarray)\n",
    "        return self.synthetic\n",
    "\n",
    "    # for each minority class sample i ,choose N of the k nearest neighbors and generate N synthetic samples.\n",
    "    def _populate(self, N, i, nnarray):\n",
    "        for j in range(N):\n",
    "#             print('j', j)\n",
    "            nn = random.randint(0, self.k - 1)  # 包括end\n",
    "            dif = self.samples[nnarray[nn]] - self.samples[i]\n",
    "            gap = random.random()\n",
    "            self.synthetic[self.newindex] = self.samples[i] + gap * dif\n",
    "            self.newindex += 1\n",
    "#             print(self.newindex)"
   ]
  },
  {
   "cell_type": "code",
   "execution_count": 4,
   "metadata": {},
   "outputs": [
    {
     "name": "stdout",
     "output_type": "stream",
     "text": [
      "neighbors NearestNeighbors()\n",
      "samples [1 2 3]\n",
      "nna [0 4 5 3 2]\n",
      "samples [4 5 6]\n",
      "nna [1 4 5 0 2]\n",
      "samples [2 3 1]\n",
      "nna [2 3 0 4 5]\n",
      "samples [2 1 2]\n",
      "nna [3 0 2 4 5]\n",
      "samples [2 3 4]\n",
      "nna [4 5 0 3 2]\n",
      "samples [2 3 4]\n",
      "nna [4 5 0 3 2]\n"
     ]
    },
    {
     "data": {
      "text/plain": [
       "array([[1.22495258, 1.77504742, 2.77504742],\n",
       "       [1.99456543, 2.99456543, 3.99456543],\n",
       "       [1.67680913, 2.67680913, 1.64638173],\n",
       "       [1.29602175, 2.29602175, 3.29602175],\n",
       "       [1.        , 2.        , 3.        ],\n",
       "       [1.        , 2.        , 3.        ],\n",
       "       [1.64899323, 1.35100677, 2.35100677],\n",
       "       [1.        , 2.        , 3.        ],\n",
       "       [1.        , 2.        , 3.        ],\n",
       "       [1.1094302 , 2.1094302 , 3.1094302 ],\n",
       "       [4.        , 5.        , 6.        ],\n",
       "       [2.14160626, 3.14160626, 1.35401565],\n",
       "       [4.        , 5.        , 6.        ],\n",
       "       [2.57723835, 3.57723835, 4.57723835],\n",
       "       [3.48281719, 4.48281719, 5.48281719],\n",
       "       [3.02274102, 4.02274102, 3.55685255],\n",
       "       [2.03528311, 3.03528311, 4.03528311],\n",
       "       [3.03583605, 4.03583605, 5.03583605],\n",
       "       [2.77873276, 3.77873276, 4.77873276],\n",
       "       [1.86597416, 2.86597416, 3.86597416],\n",
       "       [2.        , 2.30693102, 1.34653449],\n",
       "       [2.        , 1.02104699, 1.9894765 ],\n",
       "       [2.        , 3.        , 1.        ],\n",
       "       [1.32200007, 2.32200007, 2.35599987],\n",
       "       [2.        , 3.        , 1.        ],\n",
       "       [1.55585163, 2.55585163, 1.88829675],\n",
       "       [2.        , 3.        , 1.10334481],\n",
       "       [2.        , 3.        , 1.        ],\n",
       "       [2.        , 3.        , 1.        ],\n",
       "       [2.        , 3.        , 3.7151398 ],\n",
       "       [1.55100231, 1.44899769, 2.44899769],\n",
       "       [2.        , 1.81931262, 2.81931262],\n",
       "       [1.55731982, 1.44268018, 2.44268018],\n",
       "       [2.        , 1.        , 2.        ],\n",
       "       [2.        , 1.        , 2.        ],\n",
       "       [2.        , 2.35330567, 1.32334717],\n",
       "       [1.70318767, 1.29681233, 2.29681233],\n",
       "       [2.        , 1.04980186, 1.97509907],\n",
       "       [1.93835638, 1.06164362, 2.06164362],\n",
       "       [1.0786661 , 1.9213339 , 2.9213339 ],\n",
       "       [2.        , 3.        , 4.        ],\n",
       "       [2.        , 1.15352639, 2.15352639],\n",
       "       [2.        , 3.        , 4.        ],\n",
       "       [1.68436454, 2.68436454, 3.68436454],\n",
       "       [2.        , 3.        , 3.23535422],\n",
       "       [1.21550855, 2.21550855, 3.21550855],\n",
       "       [2.        , 1.13906831, 2.13906831],\n",
       "       [2.        , 1.26735705, 2.26735705],\n",
       "       [2.        , 2.56466881, 3.56466881],\n",
       "       [2.        , 2.27161837, 3.27161837],\n",
       "       [1.91271582, 2.91271582, 3.91271582],\n",
       "       [2.        , 3.        , 4.        ],\n",
       "       [1.5883368 , 2.5883368 , 3.5883368 ],\n",
       "       [2.        , 3.        , 1.84928215],\n",
       "       [2.        , 3.        , 4.        ],\n",
       "       [2.        , 3.        , 4.        ],\n",
       "       [2.        , 1.42644378, 2.42644378],\n",
       "       [2.        , 1.02070857, 2.02070857],\n",
       "       [2.        , 3.        , 4.        ],\n",
       "       [2.        , 3.        , 4.        ]])"
      ]
     },
     "execution_count": 4,
     "metadata": {},
     "output_type": "execute_result"
    }
   ],
   "source": [
    "a = np.array([[1,2,3],[4,5,6],[2,3,1],[2,1,2],[2,3,4],[2,3,4]])\n",
    "s = Smote(a, N=1000)\n",
    "s.over_sampling()"
   ]
  },
  {
   "cell_type": "code",
   "execution_count": null,
   "metadata": {},
   "outputs": [],
   "source": []
  }
 ],
 "metadata": {
  "kernelspec": {
   "display_name": "Python 3",
   "language": "python",
   "name": "python3"
  },
  "language_info": {
   "codemirror_mode": {
    "name": "ipython",
    "version": 3
   },
   "file_extension": ".py",
   "mimetype": "text/x-python",
   "name": "python",
   "nbconvert_exporter": "python",
   "pygments_lexer": "ipython3",
   "version": "3.8.5"
  }
 },
 "nbformat": 4,
 "nbformat_minor": 4
}
