{
 "cells": [
  {
   "cell_type": "code",
   "execution_count": 44,
   "metadata": {},
   "outputs": [],
   "source": [
    "import requests\n",
    "import re\n",
    "import pandas as pd\n",
    "import pymysql"
   ]
  },
  {
   "cell_type": "code",
   "execution_count": 147,
   "metadata": {},
   "outputs": [],
   "source": [
    "# 获取网页\n",
    "def get_content(url, page):\n",
    "    headers = {\n",
    "        'Accept': 'text/html,application/xhtml+xml,application/xml;q=0.9,image/avif,image/webp,image/apng,*/*;q=0.8,application/signed-exchange;v=b3;q=0.9',\n",
    "        'Accept-Encoding': 'gzip, deflate, br',\n",
    "        'Accept-Language': 'zh-CN,zh;q=0.9',\n",
    "        'Connection': 'keep-alive',\n",
    "        'Cookie': '__mta=142573197.1621327687267.1621327812659.1621327828244.4; uuid_n_v=v1; uuid=C2001140B7B511EB91C2FBC9F18692AD26DB734137784A2C9A100A3142171C78; _csrf=3ec74841158f75a43b8bb165450d3583cdd0e9428df8e0616d42eb3ff9d25834; _lxsdk_cuid=1797ea928dec8-04038090de538a-37607201-13c680-1797ea928dec8; _lxsdk=C2001140B7B511EB91C2FBC9F18692AD26DB734137784A2C9A100A3142171C78; Hm_lvt_703e94591e87be68cc8da0da7cbd0be2=1621327686; __mta=142573197.1621327687267.1621327687267.1621327687267.1; Hm_lpvt_703e94591e87be68cc8da0da7cbd0be2=1621327826; _lxsdk_s=1797ea928e0-cef-9dc-c26%7C%7C10',\n",
    "        'Host': 'maoyan.com',\n",
    "        'Referer': 'https://maoyan.com/board/4?offset=10',\n",
    "        'sec-ch-ua': '\" Not A;Brand\";v=\"99\", \"Chromium\";v=\"90\", \"Google Chrome\";v=\"90\"',\n",
    "        'sec-ch-ua-mobile': '?0',\n",
    "        'Sec-Fetch-Dest': 'document',\n",
    "        'Sec-Fetch-Mode': 'navigate',\n",
    "        'Sec-Fetch-Site': 'same-origin',\n",
    "        'Sec-Fetch-User': '?1',\n",
    "        'Upgrade-Insecure-Requests': '1',\n",
    "        'User-Agent': 'Mozilla/5.0 (Macintosh; Intel Mac OS X 10_15_7) AppleWebKit/537.36 (KHTML, like Gecko) Chrome/90.0.4430.212 Safari/537.36'\n",
    "    }\n",
    "    params = {\n",
    "        'offset': page * 10\n",
    "    }\n",
    "    res = requests.get(url, params=params, headers=headers)\n",
    "    if res.status_code == 200:\n",
    "        return res.text\n",
    "    return\n",
    "\n",
    "\n",
    "# 正则表达式解析网页\n",
    "def parse_html(html):\n",
    "    items = re.findall(r'<dd>(.*?)</dd>', html, re.S)\n",
    "    rank = [re.findall(r'<i class.*?board-index.*?>(.*?)</i>', item, re.S)[0] for item in items]\n",
    "    link = ['https://maoyan.com' + re.findall(r'<i class.*?board-index.*?<a href=\"(.*?)\"', item, re.S)[0] for item in items]\n",
    "    title = [re.findall(r'title=\"(.*?)\"', item, re.S)[0] for item in items]\n",
    "    image = [re.findall(r'<img data-src=\"(.*?)\"', item, re.S)[0] for item in items]\n",
    "    actor = [i[0].strip()[3:] if len(i[0].strip()) > 3 else '' for i in [re.findall(r'class=\"star\">(.*?)</p>', item, re.S) for item in items]]\n",
    "    release_time = [re.findall('class=\"releasetime\">上映时间：(.*?)</p>', item, re.S)[0].strip() for item in items]\n",
    "    integer = [re.findall('<i class=\"integer\">(.*?)</i>', item, re.S)[0] if re.findall('<i class=\"integer\">(.*?)</i>', item, re.S) else '' for item in items]\n",
    "    fraction = [re.findall('<i class=\"fraction\">(.*?)</i>', item, re.S)[0] if re.findall('<i class=\"fraction\">(.*?)</i>', item, re.S) else '' for item in items]\n",
    "    score = [i + j for i, j in list(zip(integer, fraction))]\n",
    "    \n",
    "    return pd.DataFrame({'rank': rank, 'link': link, 'title': title, 'image': image, \n",
    "                         'actor': actor, 'release_time':release_time, 'score': score})\n",
    "\n",
    "\n",
    "# 创建database\n",
    "def create_database(db):\n",
    "    conn = pymysql.connect(user='root', passwd='123456', port=3306)\n",
    "    cur = conn.cursor()\n",
    "    cur.execute(f'CREATE DATABASE IF NOT EXISTS {db} CHARACTER SET utf8mb4')\n",
    "\n",
    "    \n",
    "# 创建table\n",
    "def create_table(db, table):\n",
    "    conn = pymysql.connect(user='root', passwd='123456', port=3306, db=db)\n",
    "    cur = conn.cursor()\n",
    "    sql = f'CREATE TABLE IF NOT EXISTS {table} (`id` INT NOT NULL AUTO_INCREMENT ,' + \\\n",
    "            ','.join(['`' + col + '`' +' ' + 'VARCHAR(255)' for col in data.columns]) + \\\n",
    "            ', PRIMARY KEY (`id`)' + ')' + ' ENGINE = InnoDB;'\n",
    "    cur.execute(sql)\n",
    "\n",
    "    \n",
    "# 批量插入\n",
    "def insert_data(df, db, table):\n",
    "    columns = df.columns\n",
    "    length = len(columns)\n",
    "    s = ','.join(['%s'] * length)\n",
    "    col = ','.join([\"`\" + item + \"`\" for item in columns])\n",
    "    sql = f\"\"\"insert into {db}.{table} ({col}) values ({s})\"\"\"\n",
    "    conn = pymysql.connect(user='root', passwd='123456', port=3306, db=db)\n",
    "    cursor = conn.cursor()\n",
    "    try:\n",
    "        cursor.executemany(sql, df.values.tolist())\n",
    "        conn.commit()\n",
    "        print('数据写入成功')\n",
    "    except Exception as e:\n",
    "        print(e)\n",
    "        conn.rollback()\n",
    "    \n",
    "\n",
    "def store_data(df, db, table):\n",
    "    create_database(db)\n",
    "    create_table(db, table)\n",
    "    insert_data(df, db, table)"
   ]
  },
  {
   "cell_type": "code",
   "execution_count": 148,
   "metadata": {},
   "outputs": [
    {
     "name": "stdout",
     "output_type": "stream",
     "text": [
      "数据写入成功\n"
     ]
    }
   ],
   "source": [
    "url = 'https://maoyan.com/board/4'\n",
    "db = 'MaoYan'\n",
    "table = 'MaoYanTop100'\n",
    "data = pd.DataFrame([])\n",
    "for page in range(10):\n",
    "    html = get_content(url, page)\n",
    "    page_data = parse_html(html)\n",
    "    data = pd.concat([data, page_data])\n",
    "store_data(data, db, table)"
   ]
  },
  {
   "cell_type": "code",
   "execution_count": 199,
   "metadata": {},
   "outputs": [],
   "source": [
    "# 批量更新\n",
    "def update_data(df, db, table):\n",
    "    \"\"\"insert into MaoYan.Top100 (`id`,`name`,`age`) values (%s,%s,%s) \n",
    "    on duplicate key update id=values(id),name=values(name),age=values(age)\"\"\"\n",
    "    columns = df.columns\n",
    "    length = len(columns)\n",
    "    s = ','.join(['%s'] * length)\n",
    "    col = ','.join([\"`\" + item + \"`\" for item in columns])\n",
    "    update = ','.join([item + '=values(' + item + ')' for item in columns])\n",
    "    sql = f\"\"\"insert into {db}.{table} ({col}) values ({s}) on duplicate key update {update}\"\"\"\n",
    "    conn = pymysql.connect(user='root', passwd='123456', port=3306, db=db)\n",
    "    cursor = conn.cursor()\n",
    "    try:\n",
    "        cursor.executemany(sql, df.values.tolist())\n",
    "        conn.commit()\n",
    "        print('数据更新成功')\n",
    "    except Exception as e:\n",
    "        print(e)\n",
    "        conn.rollback()"
   ]
  },
  {
   "cell_type": "code",
   "execution_count": 200,
   "metadata": {},
   "outputs": [
    {
     "data": {
      "text/html": [
       "<div>\n",
       "<style scoped>\n",
       "    .dataframe tbody tr th:only-of-type {\n",
       "        vertical-align: middle;\n",
       "    }\n",
       "\n",
       "    .dataframe tbody tr th {\n",
       "        vertical-align: top;\n",
       "    }\n",
       "\n",
       "    .dataframe thead th {\n",
       "        text-align: right;\n",
       "    }\n",
       "</style>\n",
       "<table border=\"1\" class=\"dataframe\">\n",
       "  <thead>\n",
       "    <tr style=\"text-align: right;\">\n",
       "      <th></th>\n",
       "      <th>id</th>\n",
       "      <th>name</th>\n",
       "      <th>age</th>\n",
       "    </tr>\n",
       "  </thead>\n",
       "  <tbody>\n",
       "    <tr>\n",
       "      <th>0</th>\n",
       "      <td>20120001</td>\n",
       "      <td>Bob</td>\n",
       "      <td>26</td>\n",
       "    </tr>\n",
       "    <tr>\n",
       "      <th>1</th>\n",
       "      <td>20120002</td>\n",
       "      <td>Smith</td>\n",
       "      <td>25</td>\n",
       "    </tr>\n",
       "  </tbody>\n",
       "</table>\n",
       "</div>"
      ],
      "text/plain": [
       "         id   name  age\n",
       "0  20120001    Bob   26\n",
       "1  20120002  Smith   25"
      ]
     },
     "execution_count": 200,
     "metadata": {},
     "output_type": "execute_result"
    }
   ],
   "source": [
    "test = {\n",
    "    'id': ['20120001', '20120002'],\n",
    "    'name': ['Bob', 'Smith'], \n",
    "#     'age': [21, 25]\n",
    "    'age': [26, 25]\n",
    "}\n",
    "test_df = pd.DataFrame(test)\n",
    "test_df"
   ]
  },
  {
   "cell_type": "code",
   "execution_count": 164,
   "metadata": {},
   "outputs": [
    {
     "name": "stdout",
     "output_type": "stream",
     "text": [
      "数据写入成功\n"
     ]
    }
   ],
   "source": [
    "insert_data(test_df, 'MaoYan', 'Top100')"
   ]
  },
  {
   "cell_type": "code",
   "execution_count": 201,
   "metadata": {},
   "outputs": [
    {
     "name": "stdout",
     "output_type": "stream",
     "text": [
      "insert into MaoYan.Top100 (`id`,`name`,`age`) values (%s,%s,%s) on duplicate key update id=values(id),name=values(name),age=values(age)\n",
      "数据更新成功\n"
     ]
    }
   ],
   "source": [
    "update_data(test_df, 'MaoYan', 'Top100')"
   ]
  },
  {
   "cell_type": "code",
   "execution_count": null,
   "metadata": {},
   "outputs": [],
   "source": []
  }
 ],
 "metadata": {
  "kernelspec": {
   "display_name": "Python 3",
   "language": "python",
   "name": "python3"
  },
  "language_info": {
   "codemirror_mode": {
    "name": "ipython",
    "version": 3
   },
   "file_extension": ".py",
   "mimetype": "text/x-python",
   "name": "python",
   "nbconvert_exporter": "python",
   "pygments_lexer": "ipython3",
   "version": "3.8.5"
  }
 },
 "nbformat": 4,
 "nbformat_minor": 4
}
